{
 "cells": [
  {
   "cell_type": "markdown",
   "id": "68bee9a8",
   "metadata": {},
   "source": [
    "# Project - Investigate the IMDB Movie DataSet\n",
    "\n",
    "## Table of Contents\n",
    "* Introduction\n",
    "* Data Wrangling\n",
    "* Exploratory Data Aanalysis\n",
    "* Conclusions"
   ]
  },
  {
   "cell_type": "code",
   "execution_count": 321,
   "id": "f8f0b2a8",
   "metadata": {},
   "outputs": [],
   "source": [
    "## importing required libraries\n",
    "import pandas as pd\n",
    "import numpy as np\n",
    "import matplotlib.pyplot as plt\n",
    "import seaborn as sns\n",
    "%matplotlib inline"
   ]
  },
  {
   "cell_type": "markdown",
   "id": "50302645",
   "metadata": {},
   "source": [
    "## Data Wrangling\n",
    "\n",
    "In this step,we understand the data,clean the data and convert it to a format that makes sense to analyse.For this\n",
    "* We check duplicate rows.\n",
    "* We check null values\n",
    "* We drop non essential columns"
   ]
  },
  {
   "cell_type": "code",
   "execution_count": null,
   "id": "cd69db61",
   "metadata": {},
   "outputs": [],
   "source": []
  },
  {
   "cell_type": "code",
   "execution_count": null,
   "id": "38090405",
   "metadata": {},
   "outputs": [],
   "source": []
  },
  {
   "cell_type": "code",
   "execution_count": null,
   "id": "13e585a8",
   "metadata": {},
   "outputs": [],
   "source": []
  },
  {
   "cell_type": "markdown",
   "id": "c96e2f0c",
   "metadata": {},
   "source": [
    "### Get year, month, day from data column"
   ]
  },
  {
   "cell_type": "code",
   "execution_count": null,
   "id": "c0ce365e",
   "metadata": {},
   "outputs": [],
   "source": []
  },
  {
   "cell_type": "code",
   "execution_count": null,
   "id": "1cf47ca2",
   "metadata": {},
   "outputs": [],
   "source": []
  },
  {
   "cell_type": "markdown",
   "id": "0df684e0",
   "metadata": {},
   "source": [
    "## Check values of year column"
   ]
  },
  {
   "cell_type": "code",
   "execution_count": null,
   "id": "9d8fb07d",
   "metadata": {},
   "outputs": [],
   "source": []
  },
  {
   "cell_type": "code",
   "execution_count": null,
   "id": "0631b992",
   "metadata": {},
   "outputs": [],
   "source": []
  },
  {
   "cell_type": "markdown",
   "id": "d24c1443",
   "metadata": {},
   "source": [
    "Now we have completed the data wrangling by dropping the not required columns and removing duplicate values.\n",
    "\n",
    "# Exploratory Data Analysis\n",
    "\n",
    "## Some Questions we want to answer by this analysis:\n",
    "\n",
    "1. Which genres movies are more popular?\n",
    "2. What was the proportion of movies for each genre from 1960 to 2015?\n",
    "2. Which genres movies are usually the longest and shortest?\n",
    "3. Get the top 10 actors who have acted in most movies from 1960 to 2015.\n",
    "4. Get the top 10 movies with avergae vote ratings.\n",
    "5. Get the top 10 movies with popularity.\n",
    "6. Get the top 10 directors with max Popularity.\n",
    "7. Do movies having higher budget more popular than movies with lower budget?\n",
    "8. Did longer movies have higher average vote ratings from 1960 to 2015?\n",
    "9. Have longer movies been more popular than the shorter ones?\n",
    "10. From 1960 to 2015,in total which was the favourite month for producers to release their movies?"
   ]
  },
  {
   "cell_type": "markdown",
   "id": "853d5a4a",
   "metadata": {},
   "source": [
    "## What genre movies are more popular?"
   ]
  },
  {
   "cell_type": "code",
   "execution_count": null,
   "id": "4968fe0c",
   "metadata": {},
   "outputs": [],
   "source": []
  },
  {
   "cell_type": "code",
   "execution_count": null,
   "id": "cd96c16f",
   "metadata": {},
   "outputs": [],
   "source": []
  },
  {
   "cell_type": "code",
   "execution_count": null,
   "id": "ea4a8e7a",
   "metadata": {},
   "outputs": [],
   "source": []
  },
  {
   "cell_type": "code",
   "execution_count": null,
   "id": "5c9eb6fa",
   "metadata": {},
   "outputs": [],
   "source": []
  },
  {
   "cell_type": "markdown",
   "id": "01c18c4c",
   "metadata": {},
   "source": [
    "## What was the proportion of movies for each genre from 1960 to 2015?"
   ]
  },
  {
   "cell_type": "code",
   "execution_count": null,
   "id": "9c25e157",
   "metadata": {},
   "outputs": [],
   "source": []
  },
  {
   "cell_type": "code",
   "execution_count": null,
   "id": "8fa1beb4",
   "metadata": {},
   "outputs": [],
   "source": []
  },
  {
   "cell_type": "code",
   "execution_count": null,
   "id": "75684fd1",
   "metadata": {},
   "outputs": [],
   "source": []
  },
  {
   "cell_type": "markdown",
   "id": "0282c755",
   "metadata": {},
   "source": [
    "## Which genres movies are usually the longest and shortest?"
   ]
  },
  {
   "cell_type": "code",
   "execution_count": null,
   "id": "519d3d0b",
   "metadata": {},
   "outputs": [],
   "source": []
  },
  {
   "cell_type": "code",
   "execution_count": null,
   "id": "3b07bbf0",
   "metadata": {},
   "outputs": [],
   "source": []
  },
  {
   "cell_type": "code",
   "execution_count": null,
   "id": "666d4c34",
   "metadata": {},
   "outputs": [],
   "source": []
  },
  {
   "cell_type": "markdown",
   "id": "38775c1a",
   "metadata": {},
   "source": [
    "## Get the top 10 actors who have acted in most movies from 1960 to 2015."
   ]
  },
  {
   "cell_type": "code",
   "execution_count": null,
   "id": "586a47c0",
   "metadata": {},
   "outputs": [],
   "source": []
  },
  {
   "cell_type": "code",
   "execution_count": null,
   "id": "bf71d862",
   "metadata": {},
   "outputs": [],
   "source": []
  },
  {
   "cell_type": "code",
   "execution_count": null,
   "id": "359eff71",
   "metadata": {},
   "outputs": [],
   "source": []
  },
  {
   "cell_type": "markdown",
   "id": "5d9b9e6a",
   "metadata": {},
   "source": [
    "## Get the top 10 movies with avergae vote ratings."
   ]
  },
  {
   "cell_type": "code",
   "execution_count": null,
   "id": "7ca58cd4",
   "metadata": {},
   "outputs": [],
   "source": []
  },
  {
   "cell_type": "code",
   "execution_count": null,
   "id": "0c1a7690",
   "metadata": {},
   "outputs": [],
   "source": []
  },
  {
   "cell_type": "code",
   "execution_count": null,
   "id": "bb08f9bf",
   "metadata": {},
   "outputs": [],
   "source": []
  },
  {
   "cell_type": "markdown",
   "id": "f909881e",
   "metadata": {},
   "source": [
    "## Get the top 10 movies with popularity."
   ]
  },
  {
   "cell_type": "code",
   "execution_count": null,
   "id": "78cafaf0",
   "metadata": {},
   "outputs": [],
   "source": []
  },
  {
   "cell_type": "code",
   "execution_count": null,
   "id": "95220005",
   "metadata": {},
   "outputs": [],
   "source": []
  },
  {
   "cell_type": "markdown",
   "id": "15e4504a",
   "metadata": {},
   "source": [
    "## Get the top 10 directors with max Popularity."
   ]
  },
  {
   "cell_type": "code",
   "execution_count": null,
   "id": "0151ad5a",
   "metadata": {},
   "outputs": [],
   "source": []
  },
  {
   "cell_type": "code",
   "execution_count": null,
   "id": "39dd3031",
   "metadata": {},
   "outputs": [],
   "source": []
  },
  {
   "cell_type": "code",
   "execution_count": null,
   "id": "5fcda9b0",
   "metadata": {},
   "outputs": [],
   "source": []
  },
  {
   "cell_type": "markdown",
   "id": "3cb5810d",
   "metadata": {},
   "source": [
    "## Do movies having higher budget more popular than movies with lower budget?"
   ]
  },
  {
   "cell_type": "code",
   "execution_count": null,
   "id": "a91c572c",
   "metadata": {},
   "outputs": [],
   "source": []
  },
  {
   "cell_type": "code",
   "execution_count": null,
   "id": "e12f940b",
   "metadata": {},
   "outputs": [],
   "source": []
  },
  {
   "cell_type": "markdown",
   "id": "5accb7c5",
   "metadata": {},
   "source": [
    "## Did longer movies have higher average vote ratings from 1960 to 2015?"
   ]
  },
  {
   "cell_type": "code",
   "execution_count": null,
   "id": "f24a3312",
   "metadata": {},
   "outputs": [],
   "source": []
  },
  {
   "cell_type": "code",
   "execution_count": null,
   "id": "4703a652",
   "metadata": {},
   "outputs": [],
   "source": []
  },
  {
   "cell_type": "code",
   "execution_count": null,
   "id": "027190a7",
   "metadata": {},
   "outputs": [],
   "source": []
  },
  {
   "cell_type": "markdown",
   "id": "dd1389be",
   "metadata": {},
   "source": [
    "## Have longer movies been more popular than the shorter ones?"
   ]
  },
  {
   "cell_type": "code",
   "execution_count": null,
   "id": "b568a012",
   "metadata": {},
   "outputs": [],
   "source": []
  },
  {
   "cell_type": "code",
   "execution_count": null,
   "id": "5eedeb74",
   "metadata": {},
   "outputs": [],
   "source": []
  },
  {
   "cell_type": "code",
   "execution_count": null,
   "id": "e25c7227",
   "metadata": {},
   "outputs": [],
   "source": []
  },
  {
   "cell_type": "markdown",
   "id": "b6dbf886",
   "metadata": {},
   "source": [
    "## From 1960 to 2015,in total which was the favourite month for producers to release their movies?"
   ]
  },
  {
   "cell_type": "code",
   "execution_count": null,
   "id": "1b77533b",
   "metadata": {},
   "outputs": [],
   "source": []
  },
  {
   "cell_type": "code",
   "execution_count": null,
   "id": "549d1e9c",
   "metadata": {},
   "outputs": [],
   "source": []
  },
  {
   "cell_type": "code",
   "execution_count": null,
   "id": "4729b977",
   "metadata": {},
   "outputs": [],
   "source": []
  },
  {
   "cell_type": "code",
   "execution_count": null,
   "id": "b9844bbb",
   "metadata": {},
   "outputs": [],
   "source": []
  }
 ],
 "metadata": {
  "kernelspec": {
   "display_name": "Python 3",
   "language": "python",
   "name": "python3"
  },
  "language_info": {
   "codemirror_mode": {
    "name": "ipython",
    "version": 3
   },
   "file_extension": ".py",
   "mimetype": "text/x-python",
   "name": "python",
   "nbconvert_exporter": "python",
   "pygments_lexer": "ipython3",
   "version": "3.8.8"
  }
 },
 "nbformat": 4,
 "nbformat_minor": 5
}
