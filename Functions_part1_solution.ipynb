{
 "cells": [
  {
   "cell_type": "markdown",
   "metadata": {},
   "source": [
    "# Function Practice Exercises\n",
    "\n",
    "Problems are arranged in increasing difficulty:\n",
    "* Warmup - these can be solved using basic comparisons and methods\n",
    "* Level 1 - these may involve if/then conditional statements and simple methods\n",
    "* Level 2 - these may require iterating over sequences, usually with some kind of loop\n",
    "* Challenging - these will take some creativity to solve"
   ]
  },
  {
   "cell_type": "markdown",
   "metadata": {},
   "source": [
    "## WARMUP SECTION:"
   ]
  },
  {
   "cell_type": "markdown",
   "metadata": {},
   "source": [
    "#### LESSER OF TWO EVENS: Write a function that returns the lesser of two given numbers *if* both numbers are even, but returns the greater if one or both numbers are odd\n",
    "    lesser_of_two_evens(2,4) --> 2\n",
    "    lesser_of_two_evens(2,5) --> 5"
   ]
  },
  {
   "cell_type": "code",
   "execution_count": 11,
   "metadata": {
    "collapsed": true
   },
   "outputs": [
    {
     "name": "stdout",
     "output_type": "stream",
     "text": [
      "5\n"
     ]
    }
   ],
   "source": [
    "def lesser_of_two_evens(a,b):\n",
    "     if a % 2 == 0 and b % 2 == 0 :\n",
    "         if a < b:\n",
    "             print(a)\n",
    "         elif b < a:\n",
    "            print(b)\n",
    "     else:\n",
    "         if a>b:\n",
    "             print(a)\n",
    "         else:\n",
    "             print(b)\n",
    "\n",
    "lesser_of_two_evens(2,5)"
   ]
  },
  {
   "cell_type": "code",
   "execution_count": 10,
   "metadata": {
    "collapsed": true
   },
   "outputs": [
    {
     "name": "stdout",
     "output_type": "stream",
     "text": [
      "2\n"
     ]
    }
   ],
   "source": [
    "# Check\n",
    "def lesser_of_two_evens(a,b):\n",
    "     if a % 2 == 0 and b % 2 == 0 :\n",
    "         if a < b:\n",
    "             print(a)\n",
    "         elif b < a:\n",
    "            print(b)\n",
    "     else:\n",
    "         if a>b:\n",
    "             print(a)\n",
    "         else:\n",
    "             print(b)\n",
    "lesser_of_two_evens(2,4)"
   ]
  },
  {
   "cell_type": "markdown",
   "metadata": {},
   "source": [
    "#### ANIMAL CRACKERS: Write a function takes a two-word string and returns True if both words begin with same letter\n",
    "    animal_crackers('Levelheaded Llama') --> True\n",
    "    animal_crackers('Crazy Kangaroo') --> False"
   ]
  },
  {
   "cell_type": "code",
   "execution_count": 12,
   "metadata": {
    "collapsed": true
   },
   "outputs": [
    {
     "name": "stdout",
     "output_type": "stream",
     "text": [
      "True\n"
     ]
    }
   ],
   "source": [
    "# Check\n",
    "def animal_crackers(text):\n",
    "    words = text.split()\n",
    "    if len(words) == 2:\n",
    "          if words[0][0] == words[1][0]:\n",
    "               return True\n",
    "          else:\n",
    "              return False\n",
    "    else:\n",
    "        print(\"enter only two words\")\n",
    "result = animal_crackers('line lain')\n",
    "print(result)"
   ]
  },
  {
   "cell_type": "code",
   "execution_count": 1,
   "metadata": {
    "collapsed": true
   },
   "outputs": [
    {
     "name": "stdout",
     "output_type": "stream",
     "text": [
      "False\n"
     ]
    }
   ],
   "source": [
    "# Check\n",
    "def animal_crackers(text):\n",
    "    words = text.split()\n",
    "    if len(words) == 2:\n",
    "          if words[0][0] == words[1][0]:\n",
    "               return True\n",
    "          else:\n",
    "              return False\n",
    "    else:\n",
    "        print(\"enter only two words\")\n",
    "result = animal_crackers('Crazy Kangaroo')\n",
    "print(result)"
   ]
  },
  {
   "cell_type": "markdown",
   "metadata": {},
   "source": [
    "#### MAKES TWENTY: Given two integers, return True if the sum of the integers is 20 *or* if one of the integers is 20. If not, return False\n",
    "\n",
    "    makes_twenty(20,10) --> True\n",
    "    makes_twenty(12,8) --> True\n",
    "    makes_twenty(2,3) --> False"
   ]
  },
  {
   "cell_type": "code",
   "execution_count": 13,
   "metadata": {
    "collapsed": true
   },
   "outputs": [
    {
     "data": {
      "text/plain": [
       "True"
      ]
     },
     "execution_count": 13,
     "metadata": {},
     "output_type": "execute_result"
    }
   ],
   "source": [
    "def makes_twenty(n1,n2):\n",
    "    sum = n1 + n2\n",
    "    if sum == 20 or n1 == 20 or n2 == 20:\n",
    "        return True\n",
    "    else:\n",
    "        return False\n",
    "makes_twenty(20,10)"
   ]
  },
  {
   "cell_type": "code",
   "execution_count": 29,
   "metadata": {
    "collapsed": true
   },
   "outputs": [
    {
     "data": {
      "text/plain": [
       "True"
      ]
     },
     "execution_count": 29,
     "metadata": {},
     "output_type": "execute_result"
    }
   ],
   "source": [
    "# Check\n",
    "def makes_twenty(n1,n2):\n",
    "    if ( n1 == 20 or n2 == 20 or n1+n2 == 20):\n",
    "        return True\n",
    "    else:\n",
    "        return False\n",
    "makes_twenty(12,8)"
   ]
  },
  {
   "cell_type": "code",
   "execution_count": 14,
   "metadata": {
    "collapsed": true
   },
   "outputs": [
    {
     "data": {
      "text/plain": [
       "False"
      ]
     },
     "execution_count": 14,
     "metadata": {},
     "output_type": "execute_result"
    }
   ],
   "source": [
    "def makes_twenty(n1,n2):\n",
    "    sum = n1 + n2\n",
    "    if sum == 20 or n1 == 20 or n2 == 20:\n",
    "        return True\n",
    "    else:\n",
    "        return False\n",
    "makes_twenty(2,3)"
   ]
  },
  {
   "cell_type": "markdown",
   "metadata": {},
   "source": [
    "# LEVEL 1 PROBLEMS"
   ]
  },
  {
   "cell_type": "markdown",
   "metadata": {},
   "source": [
    "#### OLD MACDONALD: Write a function that capitalizes the first and fourth letters of a name\n",
    "     \n",
    "    old_macdonald('macdonald') --> MacDonald\n",
    "    \n",
    "Note: `'macdonald'.capitalize()` returns `'Macdonald'`"
   ]
  },
  {
   "cell_type": "code",
   "execution_count": 15,
   "metadata": {
    "collapsed": true
   },
   "outputs": [
    {
     "data": {
      "text/plain": [
       "'MacDonald'"
      ]
     },
     "execution_count": 15,
     "metadata": {},
     "output_type": "execute_result"
    }
   ],
   "source": [
    "def old_macdonald(name):\n",
    "    newname = ''\n",
    "    for i , x in enumerate(name):\n",
    "        if i == 0 or i == 3:\n",
    "            newname += x.upper()\n",
    "        else:\n",
    "             newname += x\n",
    "    return newname\n",
    "old_macdonald('macdonald')       "
   ]
  },
  {
   "cell_type": "markdown",
   "metadata": {},
   "source": [
    "#### MASTER YODA: Given a sentence, return a sentence with the words reversed\n",
    "\n",
    "    master_yoda('I am home') --> 'home am I'\n",
    "    master_yoda('We are ready') --> 'ready are We'\n",
    "    \n",
    "Note: The .join() method may be useful here. The .join() method allows you to join together strings in a list with some connector string. For example, some uses of the .join() method:\n",
    "\n",
    "    >>> \"--\".join(['a','b','c'])\n",
    "    >>> 'a--b--c'\n",
    "\n",
    "This means if you had a list of words you wanted to turn back into a sentence, you could just join them with a single space string:\n",
    "\n",
    "    >>> \" \".join(['Hello','world'])\n",
    "    >>> \"Hello world\""
   ]
  },
  {
   "cell_type": "code",
   "execution_count": 17,
   "metadata": {
    "collapsed": true
   },
   "outputs": [
    {
     "data": {
      "text/plain": [
       "'home am I'"
      ]
     },
     "execution_count": 17,
     "metadata": {},
     "output_type": "execute_result"
    }
   ],
   "source": [
    "def master_yoda(text):\n",
    "    words = text.split(' ')\n",
    "    reversed_sen = ' '.join(reversed(words))\n",
    "    return(reversed_sen)\n",
    "master_yoda('I am home')"
   ]
  },
  {
   "cell_type": "code",
   "execution_count": 18,
   "metadata": {
    "collapsed": true
   },
   "outputs": [
    {
     "data": {
      "text/plain": [
       "'ready are We'"
      ]
     },
     "execution_count": 18,
     "metadata": {},
     "output_type": "execute_result"
    }
   ],
   "source": [
    "def master_yoda(text):\n",
    "    words = text.split(' ')\n",
    "    reversed_sen = ' '.join(reversed(words))\n",
    "    return(reversed_sen)\n",
    "master_yoda('We are ready')"
   ]
  },
  {
   "cell_type": "markdown",
   "metadata": {},
   "source": [
    "#### ALMOST THERE: Given an integer n, return True if n is within 10 of either 100 or 200\n",
    "\n",
    "    almost_there(90) --> True\n",
    "    almost_there(104) --> True\n",
    "    almost_there(150) --> False\n",
    "    almost_there(209) --> True\n",
    "    \n",
    "NOTE: `abs(num)` returns the absolute value of a number"
   ]
  },
  {
   "cell_type": "code",
   "execution_count": 3,
   "metadata": {
    "collapsed": true
   },
   "outputs": [
    {
     "data": {
      "text/plain": [
       "True"
      ]
     },
     "execution_count": 3,
     "metadata": {},
     "output_type": "execute_result"
    }
   ],
   "source": [
    "def almost_there(n):\n",
    "     if (n in range(90,110)):\n",
    "         return True\n",
    "     elif (n in range(190, 210)):\n",
    "         return True\n",
    "     else:\n",
    "         return False\n",
    "almost_there(90)"
   ]
  },
  {
   "cell_type": "code",
   "execution_count": 44,
   "metadata": {
    "collapsed": true
   },
   "outputs": [
    {
     "data": {
      "text/plain": [
       "True"
      ]
     },
     "execution_count": 44,
     "metadata": {},
     "output_type": "execute_result"
    }
   ],
   "source": [
    "# Check\n",
    "def almost_there(n):\n",
    "     if (n in range(90,110)):\n",
    "         return True\n",
    "     elif (n in range(190, 210)):\n",
    "         return True\n",
    "     else:\n",
    "         return False\n",
    "\n",
    "almost_there(104)"
   ]
  },
  {
   "cell_type": "code",
   "execution_count": 45,
   "metadata": {
    "collapsed": true
   },
   "outputs": [
    {
     "data": {
      "text/plain": [
       "False"
      ]
     },
     "execution_count": 45,
     "metadata": {},
     "output_type": "execute_result"
    }
   ],
   "source": [
    "# Check\n",
    "def almost_there(n):\n",
    "     if (n in range(90,110)):\n",
    "         return True\n",
    "     elif (n in range(190, 210)):\n",
    "         return True\n",
    "     else:\n",
    "         return False\n",
    "\n",
    "almost_there(150)"
   ]
  },
  {
   "cell_type": "code",
   "execution_count": 46,
   "metadata": {
    "collapsed": true
   },
   "outputs": [
    {
     "data": {
      "text/plain": [
       "True"
      ]
     },
     "execution_count": 46,
     "metadata": {},
     "output_type": "execute_result"
    }
   ],
   "source": [
    "# Check\n",
    "def almost_there(n):\n",
    "     if (n in range(90,110)):\n",
    "         return True\n",
    "     elif (n in range(190, 210)):\n",
    "         return True\n",
    "     else:\n",
    "         return False\n",
    "\n",
    "almost_there(209)"
   ]
  },
  {
   "cell_type": "markdown",
   "metadata": {},
   "source": [
    "# LEVEL 2 PROBLEMS"
   ]
  },
  {
   "cell_type": "markdown",
   "metadata": {},
   "source": [
    "#### FIND 33: \n",
    "\n",
    "Given a list of ints, return True if the array contains a 3 next to a 3 somewhere.\n",
    "\n",
    "    has_33([1, 3, 3]) → True\n",
    "    has_33([1, 3, 1, 3]) → False\n",
    "    has_33([3, 1, 3]) → False"
   ]
  },
  {
   "cell_type": "code",
   "execution_count": 50,
   "metadata": {
    "collapsed": true
   },
   "outputs": [
    {
     "data": {
      "text/plain": [
       "False"
      ]
     },
     "execution_count": 50,
     "metadata": {},
     "output_type": "execute_result"
    }
   ],
   "source": [
    "def has_33(nums):\n",
    "     for index in range (len(nums)-1):\n",
    "         if (nums[index] == nums[index+1]):\n",
    "            return True \n",
    "         else:\n",
    "             return False\n",
    "has_33([1, 3, 3])"
   ]
  },
  {
   "cell_type": "code",
   "execution_count": 52,
   "metadata": {
    "collapsed": true
   },
   "outputs": [
    {
     "data": {
      "text/plain": [
       "True"
      ]
     },
     "execution_count": 52,
     "metadata": {},
     "output_type": "execute_result"
    }
   ],
   "source": [
    "# Check\n",
    "def has_33(nums):\n",
    "      for i in range (len(nums)-1):\n",
    "         if (nums[i] == 3 and nums[i+1]==3 ):\n",
    "             signal=True\n",
    "         else:\n",
    "             signal=False\n",
    "      return signal\n",
    "\n",
    "has_33([1, 3, 3])"
   ]
  },
  {
   "cell_type": "code",
   "execution_count": 53,
   "metadata": {},
   "outputs": [
    {
     "data": {
      "text/plain": [
       "False"
      ]
     },
     "execution_count": 53,
     "metadata": {},
     "output_type": "execute_result"
    }
   ],
   "source": [
    "# Check\n",
    "def has_33(nums):\n",
    "      for i in range (len(nums)-1):\n",
    "         if (nums[i] == 3 and nums[i+1]==3 ):\n",
    "             signal=True\n",
    "         else:\n",
    "             signal=False\n",
    "      return signal\n",
    "has_33([1, 3, 1, 3])"
   ]
  },
  {
   "cell_type": "code",
   "execution_count": 54,
   "metadata": {},
   "outputs": [
    {
     "data": {
      "text/plain": [
       "False"
      ]
     },
     "execution_count": 54,
     "metadata": {},
     "output_type": "execute_result"
    }
   ],
   "source": [
    "# Check\n",
    "def has_33(nums):\n",
    "      for i in range (len(nums)-1):\n",
    "         if (nums[i] == 3 and nums[i+1]==3 ):\n",
    "             signal = True\n",
    "         else:\n",
    "             signal=False\n",
    "      return signal\n",
    "has_33([3, 1, 3])"
   ]
  },
  {
   "cell_type": "markdown",
   "metadata": {},
   "source": [
    "#### PAPER DOLL: Given a string, return a string where for every character in the original there are three characters\n",
    "    paper_doll('Hello') --> 'HHHeeellllllooo'\n",
    "    paper_doll('Mississippi') --> 'MMMiiissssssiiippppppiii'"
   ]
  },
  {
   "cell_type": "code",
   "execution_count": 66,
   "metadata": {
    "collapsed": true
   },
   "outputs": [
    {
     "name": "stdout",
     "output_type": "stream",
     "text": [
      "hhheeellllllooo\n"
     ]
    }
   ],
   "source": [
    "def paper_doll(word):\n",
    "   newWord = ''\n",
    "   for i in word:\n",
    "     newWord = newWord+(i*3)\n",
    "   print(newWord)\n",
    "  \n",
    "paper_doll('hello')"
   ]
  },
  {
   "cell_type": "code",
   "execution_count": 65,
   "metadata": {
    "collapsed": true
   },
   "outputs": [
    {
     "name": "stdout",
     "output_type": "stream",
     "text": [
      "MMMiiissssssiiissssssiiippppppiii\n"
     ]
    }
   ],
   "source": [
    "def paper_doll(word):\n",
    "   newWord = ''\n",
    "   for i in word:\n",
    "     newWord = newWord+(i*3)\n",
    "   print(newWord)\n",
    "  \n",
    "paper_doll('Mississippi')"
   ]
  },
  {
   "cell_type": "markdown",
   "metadata": {},
   "source": [
    "#### BLACKJACK: Given three integers between 1 and 11, if their sum is less than or equal to 21, return their sum. If their sum exceeds 21 *and* there's an eleven, reduce the total sum by 10. Finally, if the sum (even after adjustment) exceeds 21, return 'BUST'\n",
    "    blackjack(5,6,7) --> 18\n",
    "    blackjack(9,9,9) --> 'BUST'\n",
    "    blackjack(9,9,11) --> 19"
   ]
  },
  {
   "cell_type": "code",
   "execution_count": 67,
   "metadata": {
    "collapsed": true
   },
   "outputs": [
    {
     "name": "stdout",
     "output_type": "stream",
     "text": [
      "18\n"
     ]
    }
   ],
   "source": [
    "def blackjack(a, b, c):\n",
    "    sum = a + b + c\n",
    "    if sum <= 21:\n",
    "        return sum\n",
    "    elif sum > 21:\n",
    "        if a == 11 or b == 11 or c == 11:\n",
    "            return sum-10\n",
    "        else:\n",
    "            return 'BUST'\n",
    "\n",
    "print(blackjack(5,6,7))"
   ]
  },
  {
   "cell_type": "code",
   "execution_count": 68,
   "metadata": {
    "collapsed": true
   },
   "outputs": [
    {
     "name": "stdout",
     "output_type": "stream",
     "text": [
      "BUST\n"
     ]
    }
   ],
   "source": [
    "def blackjack(a, b, c):\n",
    "    sum = a + b + c\n",
    "    if sum <= 21:\n",
    "        return sum\n",
    "    elif sum > 21:\n",
    "        if a == 11 or b == 11 or c == 11:\n",
    "            return sum-10\n",
    "        else:\n",
    "            return 'BUST'\n",
    "\n",
    "print(blackjack(9,9,9))"
   ]
  },
  {
   "cell_type": "code",
   "execution_count": 69,
   "metadata": {
    "collapsed": true
   },
   "outputs": [
    {
     "name": "stdout",
     "output_type": "stream",
     "text": [
      "19\n"
     ]
    }
   ],
   "source": [
    "def blackjack(a, b, c):\n",
    "    sum = a + b + c\n",
    "    if sum <= 21:\n",
    "        return sum\n",
    "    elif sum > 21:\n",
    "        if a == 11 or b == 11 or c == 11:\n",
    "            return sum-10\n",
    "        else:\n",
    "            return 'BUST'\n",
    "\n",
    "print(blackjack(9,9,11))"
   ]
  },
  {
   "cell_type": "markdown",
   "metadata": {},
   "source": [
    " #### SUMMER OF '69: Return the sum of the numbers in the array, except ignore sections of numbers starting with a 6 and extending to the next 9 (every 6 will be followed by at least one 9). Return 0 for no numbers.\n",
    "\n",
    "    summer_69([1, 3, 5]) --> 9\n",
    "    summer_69([4, 5, 6, 7, 8, 9]) --> 9\n",
    "    summer_69([2, 1, 6, 9, 11]) --> 14"
   ]
  },
  {
   "cell_type": "code",
   "execution_count": 73,
   "metadata": {
    "collapsed": true
   },
   "outputs": [
    {
     "data": {
      "text/plain": [
       "9"
      ]
     },
     "execution_count": 73,
     "metadata": {},
     "output_type": "execute_result"
    }
   ],
   "source": [
    "def summer_69(arr):\n",
    "     sumList = sum(arr)\n",
    "     sixCount = arr.count(6)\n",
    "     if (sumList == 0):\n",
    "         return 0\n",
    "     if (sixCount > 0):\n",
    "         sixIndex = arr.index(6)\n",
    "         nineIndex = arr.index(9)\n",
    "         del arr[sixIndex:nineIndex+1]\n",
    "     sumList = sum(arr)\n",
    "     return sumList\n",
    "summer_69([1,3,5])  \n"
   ]
  },
  {
   "cell_type": "code",
   "execution_count": 76,
   "metadata": {
    "collapsed": true
   },
   "outputs": [
    {
     "data": {
      "text/plain": [
       "14"
      ]
     },
     "execution_count": 76,
     "metadata": {},
     "output_type": "execute_result"
    }
   ],
   "source": [
    "def summer_69(arr):\n",
    "     sumList = sum(arr)\n",
    "     sixCount = arr.count(6)\n",
    "     if (sumList == 0):\n",
    "         return 0\n",
    "     if (sixCount > 0):\n",
    "         sixIndex = arr.index(6)\n",
    "         nineIndex = arr.index(9)\n",
    "         del arr[sixIndex:nineIndex+1]\n",
    "     sumList = sum(arr)\n",
    "     return sumList\n",
    "summer_69([2, 1, 6, 9, 11])  \n"
   ]
  },
  {
   "cell_type": "code",
   "execution_count": null,
   "metadata": {
    "collapsed": true
   },
   "outputs": [],
   "source": [
    "def summer_69(arr):\n",
    "     sumList = sum(arr)\n",
    "     sixCount = arr.count(6)\n",
    "     if (sumList == 0):\n",
    "         return 0\n",
    "     if (sixCount > 0):\n",
    "         sixIndex = arr.index(6)\n",
    "         nineIndex = arr.index(9)\n",
    "         del arr[sixIndex:nineIndex+1]\n",
    "     sumList = sum(arr)\n",
    "     return sumList\n",
    "summer_69([4, 5, 6, 7, 8, 9])  \n"
   ]
  },
  {
   "cell_type": "markdown",
   "metadata": {},
   "source": [
    "# CHALLENGING PROBLEMS"
   ]
  },
  {
   "cell_type": "markdown",
   "metadata": {},
   "source": [
    "#### SPY GAME: Write a function that takes in a list of integers and returns True if it contains 007 in order\n",
    "\n",
    "     spy_game([1,2,4,0,0,7,5]) --> True\n",
    "     spy_game([1,0,2,4,0,5,7]) --> True\n",
    "     spy_game([1,7,2,0,4,5,0]) --> False\n"
   ]
  },
  {
   "cell_type": "code",
   "execution_count": 77,
   "metadata": {
    "collapsed": true
   },
   "outputs": [
    {
     "name": "stdout",
     "output_type": "stream",
     "text": [
      "[7, 0, 0]\n"
     ]
    }
   ],
   "source": [
    "def spy_game(nums):\n",
    "     spyList=[]\n",
    "     for num in nums:\n",
    "         if (num ==0):\n",
    "            spyList.append(num)\n",
    "         if (num ==7):\n",
    "            spyList.append(num)\n",
    "     print(spyList) \n",
    "spy_game([1,7,2,0,4,5,0]) \n"
   ]
  },
  {
   "cell_type": "code",
   "execution_count": 80,
   "metadata": {},
   "outputs": [
    {
     "data": {
      "text/plain": [
       "True"
      ]
     },
     "execution_count": 80,
     "metadata": {},
     "output_type": "execute_result"
    }
   ],
   "source": [
    "def spy_game(arr):\n",
    "    for i in range(0,len(arr)):\n",
    "        if arr[i] == 0:\n",
    "            for x in range(i+1,len(arr)):\n",
    "                if arr[x] == 0:\n",
    "                    for y in range(x+1,len(arr)):\n",
    "                        if arr[y] == 7:\n",
    "                            return True\n",
    "                else:\n",
    "                    return False\n",
    "spy_game([1,2,4,0,0,7,5])"
   ]
  },
  {
   "cell_type": "code",
   "execution_count": 84,
   "metadata": {
    "collapsed": true
   },
   "outputs": [
    {
     "data": {
      "text/plain": [
       "False"
      ]
     },
     "execution_count": 84,
     "metadata": {},
     "output_type": "execute_result"
    }
   ],
   "source": [
    "def spy_game(arr):\n",
    "    for i in range(0,len(arr)):\n",
    "        if arr[i] == 0:\n",
    "            for x in range(i+1,len(arr)):\n",
    "                if arr[x] == 0:\n",
    "                    for y in range(x+1,len(arr)):\n",
    "                        if arr[y] == 7:\n",
    "                            return True\n",
    "                else:\n",
    "                    return False\n",
    "spy_game([1,0,2,4,0,5,7])"
   ]
  },
  {
   "cell_type": "code",
   "execution_count": null,
   "metadata": {
    "collapsed": true
   },
   "outputs": [],
   "source": [
    "# Check\n",
    "spy_game([1,0,2,4,0,5,7])"
   ]
  },
  {
   "cell_type": "code",
   "execution_count": 83,
   "metadata": {
    "collapsed": true
   },
   "outputs": [
    {
     "data": {
      "text/plain": [
       "False"
      ]
     },
     "execution_count": 83,
     "metadata": {},
     "output_type": "execute_result"
    }
   ],
   "source": [
    "def spy_game(arr):\n",
    "    for i in range(0,len(arr)):\n",
    "        if arr[i] == 0:\n",
    "            for x in range(i+1,len(arr)):\n",
    "                if arr[x] == 0:\n",
    "                    for y in range(x+1,len(arr)):\n",
    "                        if arr[y] == 7:\n",
    "                            return True\n",
    "                else:\n",
    "                    return False\n",
    "spy_game([1,7,2,0,4,5,0])"
   ]
  },
  {
   "cell_type": "markdown",
   "metadata": {},
   "source": [
    "#### COUNT PRIMES: Write a function that returns the *number* of prime numbers that exist up to and including a given number\n",
    "    count_primes(100) --> 25\n",
    "\n",
    "By convention, 0 and 1 are not prime."
   ]
  },
  {
   "cell_type": "code",
   "execution_count": 89,
   "metadata": {
    "collapsed": true
   },
   "outputs": [
    {
     "data": {
      "text/plain": [
       "25"
      ]
     },
     "execution_count": 89,
     "metadata": {},
     "output_type": "execute_result"
    }
   ],
   "source": [
    "def count_primes(num):\n",
    "    i = 0\n",
    "    \n",
    "    for item in range(num+1):\n",
    "        if item <=1:   # skip 0 and 1\n",
    "            continue\n",
    "        if item == 2: \n",
    "            i=1\n",
    "            continue\n",
    "        for n in range(2,item):\n",
    "            if item % n == 0:\n",
    "                break\n",
    "        else:\n",
    "            i +=1\n",
    "            \n",
    "    return i\n",
    "count_primes(100)"
   ]
  },
  {
   "cell_type": "markdown",
   "metadata": {},
   "source": [
    "## Great Job!"
   ]
  }
 ],
 "metadata": {
  "interpreter": {
   "hash": "758131d304390a07c602f36e3373e1402a8ea7ea799b5fb0600409ce0b924522"
  },
  "kernelspec": {
   "display_name": "Python 3.7.6 ('base')",
   "language": "python",
   "name": "python3"
  },
  "language_info": {
   "codemirror_mode": {
    "name": "ipython",
    "version": 3
   },
   "file_extension": ".py",
   "mimetype": "text/x-python",
   "name": "python",
   "nbconvert_exporter": "python",
   "pygments_lexer": "ipython3",
   "version": "3.7.6"
  }
 },
 "nbformat": 4,
 "nbformat_minor": 2
}
