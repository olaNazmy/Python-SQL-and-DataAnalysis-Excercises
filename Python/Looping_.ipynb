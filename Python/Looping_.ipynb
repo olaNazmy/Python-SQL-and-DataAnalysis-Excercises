{
 "cells": [
  {
   "cell_type": "code",
   "execution_count": 1,
   "metadata": {},
   "outputs": [
    {
     "name": "stdout",
     "output_type": "stream",
     "text": [
      "enter any number5\n",
      "x is odd number \n"
     ]
    }
   ],
   "source": [
    "# booleans \n",
    "x = int(input(\"enter any number\"))\n",
    "if (x % 2) == 0 :\n",
    "      print(\"x is even number \")\n",
    "else:\n",
    "     print(\"x is odd number \")\n",
    "     "
   ]
  },
  {
   "cell_type": "code",
   "execution_count": 2,
   "metadata": {},
   "outputs": [
    {
     "name": "stdout",
     "output_type": "stream",
     "text": [
      "1\n",
      "2\n",
      "3\n",
      "4\n",
      "5\n"
     ]
    }
   ],
   "source": [
    "# whike loops\n",
    "i =1 \n",
    "while (i < 6):\n",
    "    print(i)\n",
    "    i += 1 "
   ]
  },
  {
   "cell_type": "code",
   "execution_count": 3,
   "metadata": {},
   "outputs": [
    {
     "name": "stdout",
     "output_type": "stream",
     "text": [
      "1\n",
      "2\n",
      "3\n",
      "4\n",
      "5\n",
      "6\n",
      "7\n"
     ]
    }
   ],
   "source": [
    "# use break in while\n",
    "i = 1\n",
    "while i < 10 :\n",
    "    print(i)\n",
    "    if( i == 7):\n",
    "        break\n",
    "    i += 1\n",
    "        "
   ]
  },
  {
   "cell_type": "code",
   "execution_count": 4,
   "metadata": {},
   "outputs": [
    {
     "name": "stdout",
     "output_type": "stream",
     "text": [
      "1\n",
      "2\n",
      "3\n",
      "4\n",
      "5\n",
      "6\n",
      "7\n",
      "8\n",
      "9\n",
      "i no longer less than 10\n"
     ]
    }
   ],
   "source": [
    "# while else\n",
    "i = 1\n",
    "while i < 10:\n",
    "    print(i)\n",
    "    i += 1 \n",
    "else:\n",
    "    print(\"i no longer less than 10\")\n",
    "        "
   ]
  },
  {
   "cell_type": "code",
   "execution_count": 5,
   "metadata": {},
   "outputs": [
    {
     "name": "stdout",
     "output_type": "stream",
     "text": [
      "cherry\n",
      "orange\n",
      "banana\n",
      "grap\n"
     ]
    }
   ],
   "source": [
    "# for looping, it used to loop through list or tuple or something like this \n",
    "fruits = [\"cherry\",\"orange\",\"banana\",\"grap\"]\n",
    "for x in fruits:\n",
    "    print(x)\n"
   ]
  },
  {
   "cell_type": "code",
   "execution_count": 6,
   "metadata": {},
   "outputs": [
    {
     "name": "stdout",
     "output_type": "stream",
     "text": [
      "h\n",
      "e\n",
      "l\n",
      "l\n",
      "o\n",
      " \n",
      "w\n",
      "o\n",
      "r\n",
      "l\n",
      "d\n"
     ]
    }
   ],
   "source": [
    "# looping through strings \n",
    "x = \"hello world\"\n",
    "for i in x:\n",
    "    print(i)\n",
    "    "
   ]
  },
  {
   "cell_type": "code",
   "execution_count": 6,
   "metadata": {},
   "outputs": [
    {
     "name": "stdout",
     "output_type": "stream",
     "text": [
      "h\n",
      "e\n"
     ]
    }
   ],
   "source": [
    "# looping through strings use break statement\n",
    "x = \"hello\"\n",
    "for i in x:\n",
    "    if i == \"l\":\n",
    "        break\n",
    "    print(i)\n",
    "    \n",
    "\n",
    "    "
   ]
  },
  {
   "cell_type": "code",
   "execution_count": 7,
   "metadata": {},
   "outputs": [
    {
     "name": "stdout",
     "output_type": "stream",
     "text": [
      "h\n",
      "e\n",
      "o\n"
     ]
    }
   ],
   "source": [
    "# looping through strings use continue statement\n",
    "x = \"hello\"\n",
    "for i in x:\n",
    "    if i == \"l\":\n",
    "        continue\n",
    "    print(i)\n",
    "    \n"
   ]
  },
  {
   "cell_type": "code",
   "execution_count": 10,
   "metadata": {},
   "outputs": [
    {
     "name": "stdout",
     "output_type": "stream",
     "text": [
      "0\n",
      "1\n",
      "2\n",
      "3\n",
      "4\n",
      "5\n",
      "3\n",
      "4\n",
      "5\n"
     ]
    }
   ],
   "source": [
    "# the range function\n",
    "for x in range(6):\n",
    "    print(x)\n",
    "for y in range(3,6):\n",
    "    print(y)\n"
   ]
  },
  {
   "cell_type": "code",
   "execution_count": 13,
   "metadata": {},
   "outputs": [
    {
     "name": "stdout",
     "output_type": "stream",
     "text": [
      "0\n",
      "1\n",
      "2\n",
      "3\n",
      "4\n"
     ]
    }
   ],
   "source": [
    "# else in for loop\n",
    "for x in range(10):\n",
    "    if x == 5 :\n",
    "        break\n",
    "    print(x)\n",
    "else:\n",
    "    print(\"Finally Finished\")"
   ]
  },
  {
   "cell_type": "code",
   "execution_count": 14,
   "metadata": {},
   "outputs": [
    {
     "name": "stdout",
     "output_type": "stream",
     "text": [
      "orange cherry\n",
      "orange orange\n",
      "orange banana\n",
      "orange grap\n",
      "yellow cherry\n",
      "yellow orange\n",
      "yellow banana\n",
      "yellow grap\n",
      "black cherry\n",
      "black orange\n",
      "black banana\n",
      "black grap\n",
      "wbhite cherry\n",
      "wbhite orange\n",
      "wbhite banana\n",
      "wbhite grap\n"
     ]
    }
   ],
   "source": [
    "# nested loops\n",
    "colors = [\"orange\",\"yellow\",\"black\",\"wbhite\"]\n",
    "fruits = [\"cherry\",\"orange\",\"banana\",\"grap\"]\n",
    "for x in colors:\n",
    "    for y in fruits:\n",
    "        print(x,y)"
   ]
  },
  {
   "cell_type": "code",
   "execution_count": null,
   "metadata": {},
   "outputs": [],
   "source": []
  }
 ],
 "metadata": {
  "kernelspec": {
   "display_name": "Python 3",
   "language": "python",
   "name": "python3"
  },
  "language_info": {
   "codemirror_mode": {
    "name": "ipython",
    "version": 3
   },
   "file_extension": ".py",
   "mimetype": "text/x-python",
   "name": "python",
   "nbconvert_exporter": "python",
   "pygments_lexer": "ipython3",
   "version": "3.7.6"
  }
 },
 "nbformat": 4,
 "nbformat_minor": 4
}
