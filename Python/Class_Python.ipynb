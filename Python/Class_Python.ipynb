{
 "cells": [
  {
   "cell_type": "code",
   "execution_count": 33,
   "metadata": {},
   "outputs": [
    {
     "name": "stdout",
     "output_type": "stream",
     "text": [
      "5\n"
     ]
    }
   ],
   "source": [
    "class class1:\n",
    "    x = 5\n",
    "\n",
    "p1 = class1()\n",
    "print(p1.x)"
   ]
  },
  {
   "cell_type": "code",
   "execution_count": 34,
   "metadata": {},
   "outputs": [
    {
     "name": "stdout",
     "output_type": "stream",
     "text": [
      "ola\n",
      "25\n"
     ]
    }
   ],
   "source": [
    "class person:\n",
    "    def __init__(self,name,age):\n",
    "        self.name = name\n",
    "        self.age = age\n",
    "\n",
    "p1 = person(\"ola\",25)\n",
    "print(p1.name)\n",
    "print(p1.age)\n",
    "    "
   ]
  },
  {
   "cell_type": "code",
   "execution_count": 35,
   "metadata": {},
   "outputs": [
    {
     "name": "stdout",
     "output_type": "stream",
     "text": [
      "My Name is ola\n"
     ]
    }
   ],
   "source": [
    "class person:\n",
    "    def __init__(self,name,age):\n",
    "        self.name = name\n",
    "        self.age = age\n",
    "    \n",
    "    # create another function inside same class\n",
    "    def myfunc(self):\n",
    "        print(\"My Name is \"+self.name)\n",
    "\n",
    "p1 = person(\"ola\",25)\n",
    "p1.myfunc()\n",
    "    "
   ]
  },
  {
   "cell_type": "code",
   "execution_count": 36,
   "metadata": {},
   "outputs": [
    {
     "name": "stdout",
     "output_type": "stream",
     "text": [
      "Hello, My name is ola\n",
      "Hello, My name is ahmed\n"
     ]
    }
   ],
   "source": [
    "#another name for self parameter\n",
    "class person:\n",
    "    def __init__(myobject,name,age):\n",
    "        myobject.name = name\n",
    "        myobject.age = age\n",
    "    \n",
    "    def myfunction(abc):\n",
    "        print(\"Hello, My name is \"+ abc.name)\n",
    "    \n",
    "p1 = person(\"ola\",25)\n",
    "p1.myfunction()\n",
    "# modify object properities\n",
    "p1.name = \"ahmed\"\n",
    "p1.age = 29\n",
    "# print again\n",
    "p1.myfunction()\n",
    "# delete objects\n",
    "del p1.age\n",
    "# check value again, will make error message\n",
    "#p1.age\n",
    "\n",
    "###### if u make a class without any content u can use PASS Statement for avoiding any errors\n"
   ]
  },
  {
   "cell_type": "code",
   "execution_count": null,
   "metadata": {},
   "outputs": [],
   "source": []
  },
  {
   "cell_type": "code",
   "execution_count": 37,
   "metadata": {},
   "outputs": [],
   "source": [
    "class person:\n",
    "    pass\n",
    "\n",
    "p1=person()"
   ]
  },
  {
   "cell_type": "markdown",
   "metadata": {},
   "source": []
  },
  {
   "cell_type": "code",
   "execution_count": null,
   "metadata": {},
   "outputs": [],
   "source": [
    "# Python Inheritance\n"
   ]
  }
 ],
 "metadata": {
  "kernelspec": {
   "display_name": "Python 3",
   "language": "python",
   "name": "python3"
  },
  "language_info": {
   "codemirror_mode": {
    "name": "ipython",
    "version": 3
   },
   "file_extension": ".py",
   "mimetype": "text/x-python",
   "name": "python",
   "nbconvert_exporter": "python",
   "pygments_lexer": "ipython3",
   "version": "3.10.2"
  }
 },
 "nbformat": 4,
 "nbformat_minor": 4
}
