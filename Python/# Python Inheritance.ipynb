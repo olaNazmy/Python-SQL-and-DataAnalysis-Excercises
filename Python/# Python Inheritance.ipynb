{
 "cells": [
  {
   "cell_type": "code",
   "execution_count": 2,
   "metadata": {},
   "outputs": [
    {
     "ename": "IndentationError",
     "evalue": "expected an indented block (<ipython-input-2-1aa019424d98>, line 24)",
     "output_type": "error",
     "traceback": [
      "\u001b[1;36m  File \u001b[1;32m\"<ipython-input-2-1aa019424d98>\"\u001b[1;36m, line \u001b[1;32m24\u001b[0m\n\u001b[1;33m    y = student(\"Mike\", \"Olsen\", 2019)\u001b[0m\n\u001b[1;37m                                      ^\u001b[0m\n\u001b[1;31mIndentationError\u001b[0m\u001b[1;31m:\u001b[0m expected an indented block\n"
     ]
    }
   ],
   "source": [
    "# Python Inheritance\n",
    "class person:\n",
    "    def __init__(self,fname,lname):\n",
    "        self.fname = fname\n",
    "        self.lname = lname\n",
    "        \n",
    "    def fullname(self):\n",
    "        print(self.fname,self.lname)\n",
    "        \n",
    "#Use the Person class to create an object, and then execute the printname method:\n",
    "\n",
    "x= person(\"Ola\",\"Nazmy\")\n",
    "x.fullname()\n",
    "\n",
    "#Create a class named Student, which will inherit the properties and methods from the Person class\n",
    "class student(person):\n",
    "      def __init__(self, fname, lname, year):\n",
    "            super().__init__(fname, lname)\n",
    "            self.graduationyear = year\n",
    "        \n",
    "      def welcome(self):\n",
    "          \n",
    "\n",
    "y = student(\"Mike\", \"Olsen\", 2019)\n",
    "y.welcome()\n",
    "\n",
    "            \n",
    "            \n",
    "    \n",
    "    \n",
    "    \n",
    "\n",
    "\n",
    "\n"
   ]
  }
 ],
 "metadata": {
  "interpreter": {
   "hash": "33d8e939250dd6f77c1a9c857fb967a5c1e04262bfac085cfa78b6d258c493f8"
  },
  "kernelspec": {
   "display_name": "Python 3",
   "language": "python",
   "name": "python3"
  },
  "language_info": {
   "codemirror_mode": {
    "name": "ipython",
    "version": 3
   },
   "file_extension": ".py",
   "mimetype": "text/x-python",
   "name": "python",
   "nbconvert_exporter": "python",
   "pygments_lexer": "ipython3",
   "version": "3.7.6"
  }
 },
 "nbformat": 4,
 "nbformat_minor": 4
}
