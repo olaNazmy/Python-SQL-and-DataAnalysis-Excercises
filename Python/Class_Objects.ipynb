{
 "cells": [
  {
   "cell_type": "code",
   "execution_count": 8,
   "metadata": {},
   "outputs": [
    {
     "name": "stdout",
     "output_type": "stream",
     "text": [
      "5\n"
     ]
    }
   ],
   "source": [
    "# create class\n",
    "class myclass:\n",
    "    x=5\n",
    "\n",
    "p1 = myclass()\n",
    "print(p1.x)"
   ]
  },
  {
   "cell_type": "code",
   "execution_count": 9,
   "metadata": {},
   "outputs": [
    {
     "name": "stdout",
     "output_type": "stream",
     "text": [
      "ola\n",
      "25\n",
      "hello my name is ola\n"
     ]
    }
   ],
   "source": [
    "# use the  __init__()\n",
    "class person:\n",
    "    def  __init__(self,name,age):\n",
    "        self.name = name\n",
    "        self.age = age\n",
    "     \n",
    "    def myfunc(self):\n",
    "        print(\"hello my name is \"+self.name)\n",
    "\n",
    "p1 = person(\"ola\",25)\n",
    "print(p1.name)\n",
    "print(p1.age)\n",
    "p1.myfunc()\n",
    "    "
   ]
  }
 ],
 "metadata": {
  "kernelspec": {
   "display_name": "Python 3",
   "language": "python",
   "name": "python3"
  },
  "language_info": {
   "codemirror_mode": {
    "name": "ipython",
    "version": 3
   },
   "file_extension": ".py",
   "mimetype": "text/x-python",
   "name": "python",
   "nbconvert_exporter": "python",
   "pygments_lexer": "ipython3",
   "version": "3.7.6"
  }
 },
 "nbformat": 4,
 "nbformat_minor": 4
}
