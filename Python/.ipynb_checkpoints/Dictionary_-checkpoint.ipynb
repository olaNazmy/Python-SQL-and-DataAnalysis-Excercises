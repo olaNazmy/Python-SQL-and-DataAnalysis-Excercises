{
 "cells": [
  {
   "cell_type": "code",
   "execution_count": 79,
   "metadata": {},
   "outputs": [
    {
     "name": "stdout",
     "output_type": "stream",
     "text": [
      "{'name': 'ola', 'dep': 'cs', 'year': 2019}\n",
      "ola\n",
      "3\n"
     ]
    }
   ],
   "source": [
    "# all about dictionary\n",
    "thisdict = {\n",
    "    \"name\" : \"ola\",\n",
    "    \"dep\" : \"cs\",\n",
    "    \"year\" : 2019\n",
    "}\n",
    "#\n",
    "print(thisdict)\n",
    "# access special key\n",
    "print(thisdict[\"name\"])\n",
    "# get the length of dictionary\n",
    "print(len(thisdict))\n",
    "#\n",
    "\n"
   ]
  },
  {
   "cell_type": "code",
   "execution_count": 80,
   "metadata": {},
   "outputs": [
    {
     "name": "stdout",
     "output_type": "stream",
     "text": [
      "<class 'dict'>\n",
      "['Python', 'Js', 'Mysql']\n",
      "dict_values(['ola', 'cs', 2019, ['Python', 'Js', 'Mysql'], 'elmhallah'])\n",
      "dict_values(['ola', 'cs', 2015, ['Python', 'Js', 'Mysql'], 'elmhallah'])\n",
      "dict_items([('name', 'ola'), ('dep', 'cs'), ('year', 2015), ('materials', ['Python', 'Js', 'Mysql']), ('city', 'elmhallah')])\n",
      "name in dictionary\n"
     ]
    }
   ],
   "source": [
    "# different data types\n",
    "dict1 = {\n",
    "    \"name\" : \"ola\",\n",
    "    \"dep\" : \"cs\",\n",
    "    \"year\" : 2019,\n",
    "    \"materials\" : [\"Python\",\"Js\",\"Mysql\"]\n",
    "}\n",
    "# \n",
    "print(type(dict1))\n",
    "# use get method\n",
    "print(dict1.get(\"materials\"))\n",
    "# get keys\n",
    "dict1.keys()\n",
    "# we can add a key\n",
    "dict1['city'] = \"elmhallah\"\n",
    "dict1.keys()\n",
    "# we can edit value of \n",
    "print(dict1.values())\n",
    "dict1[\"year\"] =  2015\n",
    "print(dict1.values())\n",
    "#get items\n",
    "print(dict1.items())\n",
    "#\n",
    "if \"name\" in dict1:\n",
    "    print(\"name in dictionary\")\n",
    "\n",
    "\n",
    "\n"
   ]
  },
  {
   "cell_type": "code",
   "execution_count": 81,
   "metadata": {},
   "outputs": [
    {
     "name": "stdout",
     "output_type": "stream",
     "text": [
      "{'name': 'ola', 'dep': 'cs', 'year': 2022, 'materials': ['Python', 'Js', 'Mysql']}\n"
     ]
    }
   ],
   "source": [
    "# update method take key and values\n",
    "dict1 = {\n",
    "    \"name\" : \"ola\",\n",
    "    \"dep\" : \"cs\",\n",
    "    \"year\" : 2019,\n",
    "    \"materials\" : [\"Python\",\"Js\",\"Mysql\"]\n",
    "}\n",
    "dict1.update({\"year\" : 2022}) \n",
    "print(dict1)"
   ]
  },
  {
   "cell_type": "code",
   "execution_count": 82,
   "metadata": {},
   "outputs": [
    {
     "name": "stdout",
     "output_type": "stream",
     "text": [
      "{'name': 'ola', 'dep': 'cs', 'year': 2019, 'materials': ['Python', 'Js', 'Mysql'], 'color': 'red'}\n"
     ]
    }
   ],
   "source": [
    "# add items\n",
    "dict1 = {\n",
    "    \"name\" : \"ola\",\n",
    "    \"dep\" : \"cs\",\n",
    "    \"year\" : 2019,\n",
    "    \"materials\" : [\"Python\",\"Js\",\"Mysql\"]\n",
    "}\n",
    "dict1['color'] = \"red\"\n",
    "print(dict1)"
   ]
  },
  {
   "cell_type": "code",
   "execution_count": 83,
   "metadata": {},
   "outputs": [
    {
     "name": "stdout",
     "output_type": "stream",
     "text": [
      "{'name': 'ola', 'dep': 'cs', 'year': 2019, 'materials': ['Python', 'Js', 'Mysql'], 'color': 'red'}\n",
      "{'name': 'ola', 'dep': 'cs', 'year': 2019, 'materials': ['Python', 'Js', 'Mysql']}\n",
      "{'name': 'ola', 'dep': 'cs', 'year': 2019, 'materials': ['Python', 'Js', 'Mysql'], 'color': 'red'}\n",
      "{'name': 'ola', 'dep': 'cs', 'year': 2019, 'materials': ['Python', 'Js', 'Mysql']}\n",
      "{'name': 'ola', 'dep': 'cs', 'year': 2019, 'materials': ['Python', 'Js', 'Mysql'], 'color': 'red'}\n",
      "{'name': 'ola', 'dep': 'cs', 'year': 2019, 'materials': ['Python', 'Js', 'Mysql']}\n"
     ]
    }
   ],
   "source": [
    "# delete item\n",
    "dict1 = {\n",
    "    \"name\" : \"ola\",\n",
    "    \"dep\" : \"cs\",\n",
    "    \"year\" : 2019,\n",
    "    \"materials\" : [\"Python\",\"Js\",\"Mysql\"]\n",
    "}\n",
    "dict1['color'] = \"red\"\n",
    "print(dict1)\n",
    "#\n",
    "dict1.pop(\"color\")\n",
    "print(dict1)\n",
    "#\n",
    "dict1['color'] = \"red\"\n",
    "print(dict1)\n",
    "#\n",
    "dict1.popitem()\n",
    "print(dict1)\n",
    "#\n",
    "dict1['color'] = \"red\"\n",
    "print(dict1)\n",
    "#\n",
    "del dict1[\"color\"]\n",
    "print(dict1)\n",
    "\n"
   ]
  },
  {
   "cell_type": "code",
   "execution_count": 86,
   "metadata": {},
   "outputs": [
    {
     "name": "stdout",
     "output_type": "stream",
     "text": [
      "name\n",
      "dep\n",
      "year\n",
      "materials\n",
      "ola\n",
      "cs\n",
      "2019\n",
      "['Python', 'Js', 'Mysql']\n"
     ]
    }
   ],
   "source": [
    "# Looping Dictionary\n",
    "dict1 = {\n",
    "    \"name\" : \"ola\",\n",
    "    \"dep\" : \"cs\",\n",
    "    \"year\" : 2019,\n",
    "    \"materials\" : [\"Python\",\"Js\",\"Mysql\"]\n",
    "}\n",
    "for x in dict1:\n",
    "    print(x)\n",
    "\n",
    "#\n",
    "for x in dict1.values():\n",
    "    print(x)\n",
    "\n",
    "#\n"
   ]
  },
  {
   "cell_type": "code",
   "execution_count": 87,
   "metadata": {},
   "outputs": [
    {
     "data": {
      "text/plain": [
       "{'name': 'ola',\n",
       " 'dep': 'cs',\n",
       " 'year': 2019,\n",
       " 'materials': ['Python', 'Js', 'Mysql']}"
      ]
     },
     "execution_count": 87,
     "metadata": {},
     "output_type": "execute_result"
    }
   ],
   "source": [
    "# copay a dictionary\n",
    "dict1 = {\n",
    "    \"name\" : \"ola\",\n",
    "    \"dep\" : \"cs\",\n",
    "    \"year\" : 2019,\n",
    "    \"materials\" : [\"Python\",\"Js\",\"Mysql\"]\n",
    "}\n",
    "cdict = dict1.copy()\n",
    "cdict"
   ]
  },
  {
   "cell_type": "code",
   "execution_count": null,
   "metadata": {},
   "outputs": [],
   "source": [
    "# nested dictionary\n",
    "myfamily = {\n",
    "  \"child1\" : {\n",
    "    \"name\" : \"Emil\",\n",
    "    \"year\" : 2004\n",
    "  },\n",
    "  \"child2\" : {\n",
    "    \"name\" : \"Tobias\",\n",
    "    \"year\" : 2007\n",
    "  },\n",
    "  \"child3\" : {\n",
    "    \"name\" : \"Linus\",\n",
    "    \"year\" : 2011\n",
    "  }\n",
    "}\n",
    "#\n"
   ]
  },
  {
   "cell_type": "code",
   "execution_count": 92,
   "metadata": {},
   "outputs": [
    {
     "name": "stdout",
     "output_type": "stream",
     "text": [
      "50\n",
      "60\n",
      "70\n",
      "80\n",
      "60\n",
      "75\n",
      "90\n",
      "85\n",
      "100\n",
      "90\n",
      "85\n",
      "75\n"
     ]
    }
   ],
   "source": [
    "marks = {\n",
    "    \"Ahmed\" : [50, 60, 70, 80],\n",
    "    \"Ali\"   : [60, 75, 90, 85],\n",
    "    \"Sara\"  : [100, 90, 85, 75]\n",
    "}\n",
    "#\n",
    "avg = 0\n",
    "for x in marks.keys():\n",
    "    for y in marks[x].:\n",
    "        print(y)\n",
    "    "
   ]
  },
  {
   "cell_type": "code",
   "execution_count": null,
   "metadata": {},
   "outputs": [],
   "source": [
    "def solve(scores):\n",
    "   avg_scores = dict()\n",
    "   for name in scores:\n",
    "      avg_scores[name] = sum(scores[name])/len(scores[name])\n",
    "return list(avg_scores.values())\n",
    "\n",
    "\n",
    "\n",
    "scores = {'Amal' : [25,36,47,45],'Bimal' : [85,74,69,47],'Tarun' : [65,35,87,14],'Akash' : [74,12,36,75]}\n",
    "print(solve(scores))"
   ]
  }
 ],
 "metadata": {
  "interpreter": {
   "hash": "33d8e939250dd6f77c1a9c857fb967a5c1e04262bfac085cfa78b6d258c493f8"
  },
  "kernelspec": {
   "display_name": "Python 3.7.6 ('base')",
   "language": "python",
   "name": "python3"
  },
  "language_info": {
   "codemirror_mode": {
    "name": "ipython",
    "version": 3
   },
   "file_extension": ".py",
   "mimetype": "text/x-python",
   "name": "python",
   "nbconvert_exporter": "python",
   "pygments_lexer": "ipython3",
   "version": "3.7.6"
  }
 },
 "nbformat": 4,
 "nbformat_minor": 4
}
