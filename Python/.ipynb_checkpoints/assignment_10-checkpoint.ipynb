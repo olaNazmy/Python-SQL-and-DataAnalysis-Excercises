{
 "cells": [
  {
   "cell_type": "code",
   "execution_count": 10,
   "metadata": {},
   "outputs": [],
   "source": [
    "import os\n",
    "def read_files(path):\n",
    "    res = os.listdir(path)\n",
    "    return res\n",
    "files = read_files('./universe')\n",
    "# rename files\n",
    "def rename_files(lst,path):\n",
    "    for x, filename in enumerate(os.listdir(path)):\n",
    "     src = f\"{path}/{filename}\"\n",
    "     dst = f\"{path}/xyz{str(x)}.png\"\n",
    "     os.rename(src,dst)\n",
    "\n",
    "rename_files(files,'./universe')\n",
    "        \n",
    "        \n",
    "        \n",
    "        \n",
    "    "
   ]
  },
  {
   "cell_type": "code",
   "execution_count": null,
   "metadata": {},
   "outputs": [],
   "source": []
  }
 ],
 "metadata": {
  "interpreter": {
   "hash": "758131d304390a07c602f36e3373e1402a8ea7ea799b5fb0600409ce0b924522"
  },
  "kernelspec": {
   "display_name": "Python 3",
   "language": "python",
   "name": "python3"
  },
  "language_info": {
   "codemirror_mode": {
    "name": "ipython",
    "version": 3
   },
   "file_extension": ".py",
   "mimetype": "text/x-python",
   "name": "python",
   "nbconvert_exporter": "python",
   "pygments_lexer": "ipython3",
   "version": "3.7.6"
  }
 },
 "nbformat": 4,
 "nbformat_minor": 2
}
