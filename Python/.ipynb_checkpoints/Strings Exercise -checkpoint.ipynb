{
 "cells": [
  {
   "cell_type": "code",
   "execution_count": 1,
   "metadata": {},
   "outputs": [
    {
     "name": "stdout",
     "output_type": "stream",
     "text": [
      "full name is  ola nazmy\n"
     ]
    }
   ],
   "source": [
    "firstName = \"ola\"\n",
    "lastName = \" nazmy\"\n",
    "fullName = firstName + lastName\n",
    "print(\"full name is \",fullName )"
   ]
  },
  {
   "cell_type": "code",
   "execution_count": 1,
   "metadata": {},
   "outputs": [
    {
     "name": "stdout",
     "output_type": "stream",
     "text": [
      "hello i'm ola, my age is 25 \n"
     ]
    }
   ],
   "source": [
    "#to combine numbers with text we can use format() function \n",
    "txt = \"hello i'm ola, my age is {} \"\n",
    "age = 25\n",
    "print(txt.format(age))"
   ]
  },
  {
   "cell_type": "code",
   "execution_count": 2,
   "metadata": {},
   "outputs": [
    {
     "name": "stdout",
     "output_type": "stream",
     "text": [
      " we call \" vikigs\" from the north. \n"
     ]
    }
   ],
   "source": [
    "# add escape character \n",
    "nickName = \" we call \\\" vikigs\\\" from the north. \" \n",
    "print(nickName)\n"
   ]
  },
  {
   "cell_type": "code",
   "execution_count": 4,
   "metadata": {},
   "outputs": [
    {
     "name": "stdout",
     "output_type": "stream",
     "text": [
      "True\n",
      "False\n"
     ]
    }
   ],
   "source": [
    "# operators \n",
    "x=2\n",
    "y=2\n",
    "print(x is y )\n",
    "print (x is not y )"
   ]
  },
  {
   "cell_type": "code",
   "execution_count": 26,
   "metadata": {},
   "outputs": [
    {
     "name": "stdout",
     "output_type": "stream",
     "text": [
      "orange\n",
      "watermelon\n",
      "cherry\n",
      "mango\n",
      "['watermelon', 'orange', 'mango']\n",
      "['watermelon', 'orange', 'mango']\n",
      "['watermelon', 'orange', 'mango', 'watermelon', 'orange', 'mango']\n"
     ]
    }
   ],
   "source": [
    "# List \n",
    "fruits = [\"orange\", \"apple\", \"banana\", \"cherry\"]\n",
    "fruits.append(\"mango\")\n",
    "fruits[1]=\"kiwi\" # change item \n",
    "fruits.insert(3, \"watermelon\")\n",
    "fruits.remove(\"banana\")\n",
    "fruits.pop(1)\n",
    "# delete the list\n",
    "#del fruits\n",
    "#fruits.clear() # empty the list\n",
    "##### looping lists\n",
    "for x in fruits:\n",
    "    print(x)\n",
    "##### looping lists\n",
    "\"\"\"for i in range(len(fruits)):\n",
    "    print(fruits[i]) \"\"\"\n",
    "\n",
    "#########################\n",
    "newList = []\n",
    "for x in fruits:\n",
    "    if \"a\" in x:\n",
    "        newList.append(x)\n",
    "######################### sorting list\n",
    "newList.sort()\n",
    "################## in reverse #######\n",
    "newList.sort(reverse =  True)\n",
    "print(newList)\n",
    "################## copy list\n",
    "list2 = newList.copy()\n",
    "print(list2)\n",
    "################# JOIN LISTS \n",
    "list3 = newList + list2\n",
    "print(list3)"
   ]
  },
  {
   "cell_type": "code",
   "execution_count": 27,
   "metadata": {},
   "outputs": [
    {
     "name": "stdout",
     "output_type": "stream",
     "text": [
      "<class 'tuple'>\n"
     ]
    }
   ],
   "source": [
    "## tuple\n",
    "tuple1 = (\"abc\", 34, True, 40, \"male\") # can contain different data types\n",
    "print(type(tuple1))"
   ]
  },
  {
   "cell_type": "code",
   "execution_count": 36,
   "metadata": {},
   "outputs": [
    {
     "name": "stdout",
     "output_type": "stream",
     "text": [
      "True\n",
      "{'ola', True, 34, 40, 'abc', 'male'}\n",
      "{'ola', True, 34, 40, 'abc'}\n",
      "{True, 34, 40, 'abc'}\n",
      "set()\n"
     ]
    }
   ],
   "source": [
    "#set\n",
    "set1 = {\"abc\", 34, True, 40, \"male\"}\n",
    "print(\"male\" in set1) # chaeck if item in set or not\n",
    "# once set is created you can't change items but you can add new items\n",
    "set1.add(\"ola\")\n",
    "print(set1)\n",
    "set1.remove(\"male\") # this will cause error cuz item doesn't exist\n",
    "set1.discard(\"nazmy\")\n",
    "print(set1) \n",
    "# we can use pop() but this remove the last item of list\n",
    "set1.pop()\n",
    "print(set1) \n",
    "# clear the list will empty the list but still exist\n",
    "set1.clear()\n",
    "print(set1) \n",
    "# del will delete the set completely\n",
    "#set1.del()\n",
    "#set1.print()# will cause error \n",
    "\n",
    "\n",
    "\n",
    "\n"
   ]
  },
  {
   "cell_type": "code",
   "execution_count": 38,
   "metadata": {},
   "outputs": [
    {
     "name": "stdout",
     "output_type": "stream",
     "text": [
      "True\n",
      "34\n",
      "40\n",
      "abc\n",
      "male\n",
      "{1, 2, 3, 'c', 'b', 'a'}\n"
     ]
    }
   ],
   "source": [
    "set2 = {\"abc\", 34, True, 40, \"male\"}\n",
    "# loop the set\n",
    "for x in set2:\n",
    "    print(x)\n",
    "# join sets\n",
    "setA = {\"a\", \"b\" , \"c\"}\n",
    "setB = {1, 2, 3}\n",
    "setC = setA.union(setB)\n",
    "print(setC)\n",
    "#intersection_update() will save only items in both sets\n",
    "#update() method inserts the items in set2 into set1\n",
    "#symmetric_difference_update() will sort items not in both sets"
   ]
  },
  {
   "cell_type": "code",
   "execution_count": 53,
   "metadata": {},
   "outputs": [
    {
     "name": "stdout",
     "output_type": "stream",
     "text": [
      "{'name': 'ola', 'age': '25', 'gender': 'female'}\n",
      "ola\n",
      "<class 'dict'>\n",
      "dict_keys(['name', 'age', 'gender'])\n",
      "dict_values(['ola', '25', 'female'])\n",
      "dict_items([('name', 'ola'), ('age', '25'), ('gender', 'female')])\n",
      "{'name': 'ahmed', 'age': '25', 'gender': 'female'}\n",
      "{'name': 'ahmed', 'age': '25', 'gender': 'female', 'DEP': 'CS'}\n",
      "{'name': 'ahmed', 'age': '25', 'gender': 'female'}\n",
      "{'age': '25', 'gender': 'female'}\n"
     ]
    }
   ],
   "source": [
    "# python Dictionary\n",
    "thisdict = {\"name\":\"ola\",\"age\":\"25\",\"gender\":\"female\"}\n",
    "print(thisdict)\n",
    "print(thisdict[\"name\"])\n",
    "# dictionaries not changeable , duplicates not allowed\n",
    "print(type(thisdict))\n",
    "#keys() method will return a list of all the keys in the dictionary\n",
    "print(thisdict.keys())\n",
    "print(thisdict.values())\n",
    "print(thisdict.items())\n",
    "# we can update item\n",
    "thisdict.update({\"name\":\"ahmed\"})\n",
    "print(thisdict)\n",
    "thisdict[\"DEP\"] = \"CS\"\n",
    "print(thisdict)\n",
    "# remove items in dictionary\n",
    "thisdict.pop(\"DEP\")\n",
    "print(thisdict)\n",
    "# del can be used to delete item or all the dictionary\n",
    "del thisdict[\"name\"]\n",
    "print(thisdict)\n",
    "# as delete all the dictionary\n",
    "# del thisdict or thisdict.clear()"
   ]
  },
  {
   "cell_type": "code",
   "execution_count": 65,
   "metadata": {},
   "outputs": [
    {
     "name": "stdout",
     "output_type": "stream",
     "text": [
      "ola\n",
      "25\n",
      "female\n",
      "ola\n",
      "25\n",
      "female\n",
      "name\n",
      "age\n",
      "gender\n",
      "name\n",
      "age\n",
      "gender\n"
     ]
    }
   ],
   "source": [
    "# looping through dictionay\n",
    "thisdict2 = {\"name\":\"ola\",\"age\":\"25\",\"gender\":\"female\"}\n",
    "for x in thisdict2:\n",
    "    print(thisdict2[x])\n",
    "for x in thisdict2.values():\n",
    "    print(x)\n",
    "for x in thisdict2.keys():\n",
    "    print(x)\n",
    "# copy a dictionary\n",
    "#dict3 = thisdict2.copy()\n",
    "dict3 = dict(thisdict2)\n",
    "for x in dict3.keys():\n",
    "    print(x)\n",
    "\n"
   ]
  },
  {
   "cell_type": "code",
   "execution_count": null,
   "metadata": {},
   "outputs": [],
   "source": [
    "#Nested Dictionary\n",
    "myfamily =\n",
    "{\n",
    "  \"child1\" :{\n",
    "       \"name\" : \"Emil\",\n",
    "       \"year\" : 2004\n",
    "  }\n",
    "     \"child3\" :{\n",
    "       \"name\" : \"Tobias\",\n",
    "       \"year\" : 2007\n",
    "  }\n",
    "    \"child3\" :\n",
    "    \"name\" : \"Linus\",\n",
    "    \"year\" : 2011\n",
    "    \n",
    "}"
   ]
  },
  {
   "cell_type": "code",
   "execution_count": 75,
   "metadata": {},
   "outputs": [
    {
     "name": "stdout",
     "output_type": "stream",
     "text": [
      "b less than a\n",
      "a greater than b\n",
      "Both conditions are True\n",
      "one of the two conditions is true \n"
     ]
    }
   ],
   "source": [
    "# if condition\n",
    "a = 500\n",
    "b = 200\n",
    "c=600\n",
    "if a < b:\n",
    "    print(\"a less than b\")\n",
    "elif a > b:\n",
    "    print(\"b less than a\")\n",
    "else:\n",
    "    print(\"enter a valid number\")\n",
    "# shorthan IF\n",
    "if a > b: print(\"a greater than b\")\n",
    "    \n",
    "#  AND\n",
    "if a > b and c > b :\n",
    "    print(\"Both conditions are True\")\n",
    "# OR\n",
    "if a > b or b > c :\n",
    "    print(\"one of the two conditions is true \")\n"
   ]
  },
  {
   "cell_type": "code",
   "execution_count": 77,
   "metadata": {},
   "outputs": [
    {
     "name": "stdout",
     "output_type": "stream",
     "text": [
      "Above ten,\n",
      "and also above 20!\n"
     ]
    }
   ],
   "source": [
    "# nested if \n",
    "x = 41\n",
    "if x > 10:\n",
    "  print(\"Above ten,\")\n",
    "  if x > 20:\n",
    "    print(\"and also above 20!\")\n",
    "  else:\n",
    "    print(\"but not above 20.\")"
   ]
  },
  {
   "cell_type": "code",
   "execution_count": 1,
   "metadata": {},
   "outputs": [
    {
     "name": "stdout",
     "output_type": "stream",
     "text": [
      "1\n",
      "2\n",
      "3\n",
      "4\n",
      "5\n"
     ]
    }
   ],
   "source": [
    "# while loops\n",
    "i = 1\n",
    "while i < 6:\n",
    "  print(i)\n",
    "  i += 1"
   ]
  }
 ],
 "metadata": {
  "kernelspec": {
   "display_name": "Python 3",
   "language": "python",
   "name": "python3"
  },
  "language_info": {
   "codemirror_mode": {
    "name": "ipython",
    "version": 3
   },
   "file_extension": ".py",
   "mimetype": "text/x-python",
   "name": "python",
   "nbconvert_exporter": "python",
   "pygments_lexer": "ipython3",
   "version": "3.7.6"
  }
 },
 "nbformat": 4,
 "nbformat_minor": 4
}
