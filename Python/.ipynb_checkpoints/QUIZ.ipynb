{
 "cells": [
  {
   "cell_type": "code",
   "execution_count": 4,
   "metadata": {},
   "outputs": [
    {
     "data": {
      "text/plain": [
       "{'o': 2, 'l': 2, 'a': 2}"
      ]
     },
     "execution_count": 4,
     "metadata": {},
     "output_type": "execute_result"
    }
   ],
   "source": [
    "str =  input(\"Enter any String: \")\n",
    "list_str = list(str)\n",
    "new_list = []\n",
    "dict = {}\n",
    "for j in list_str:\n",
    "    if j not in new_list:\n",
    "        new_list.append(j)\n",
    "        count = 0\n",
    "        for i in range(len(list_str)):\n",
    "            if j == list_str[i]:\n",
    "                count += 1\n",
    "        dict[j] = count\n",
    "dict\n",
    "        \n"
   ]
  },
  {
   "cell_type": "code",
   "execution_count": 5,
   "metadata": {},
   "outputs": [
    {
     "data": {
      "text/plain": [
       "[12, 24, 35, 88, 120, 155]"
      ]
     },
     "execution_count": 5,
     "metadata": {},
     "output_type": "execute_result"
    }
   ],
   "source": [
    "lst = [12,24,35,24,88,120,155,88,120,155]\n",
    "res = []\n",
    "for x in lst:\n",
    "    if x not in res:\n",
    "        res.append(x)\n",
    "res"
   ]
  },
  {
   "cell_type": "code",
   "execution_count": 7,
   "metadata": {},
   "outputs": [
    {
     "data": {
      "text/plain": [
       "[2, 3, 6]"
      ]
     },
     "execution_count": 7,
     "metadata": {},
     "output_type": "execute_result"
    }
   ],
   "source": [
    "lst1 = [1,2,3,6]\n",
    "lst2 = [4,5,6,3,2]\n",
    "lst3 = [val for val in lst1 if val in lst2]\n",
    "lst3"
   ]
  },
  {
   "cell_type": "code",
   "execution_count": 5,
   "metadata": {},
   "outputs": [
    {
     "data": {
      "text/plain": [
       "[(1, 4), (2, 5), (3, 6), (6, 3), (2, 2)]"
      ]
     },
     "execution_count": 5,
     "metadata": {},
     "output_type": "execute_result"
    }
   ],
   "source": [
    "lst1 = [1,2,3,6,2]\n",
    "lst2 = [4,5,6,3,2]\n",
    "list(zip(lst1,lst2))\n"
   ]
  },
  {
   "cell_type": "code",
   "execution_count": 8,
   "metadata": {},
   "outputs": [
    {
     "data": {
      "text/plain": [
       "190"
      ]
     },
     "execution_count": 8,
     "metadata": {},
     "output_type": "execute_result"
    }
   ],
   "source": [
    "n =int(input(\"Enter a number you need: \"))\n",
    "sum_nums = 0\n",
    "for x in range(n):\n",
    "    sum_nums += x\n",
    "sum_nums\n"
   ]
  },
  {
   "cell_type": "code",
   "execution_count": 9,
   "metadata": {},
   "outputs": [
    {
     "data": {
      "text/plain": [
       "{0: 'a', 1: 'b', 2: 'c', 3: 'd', 4: 'e', 5: 'f'}"
      ]
     },
     "execution_count": 9,
     "metadata": {},
     "output_type": "execute_result"
    }
   ],
   "source": [
    "lst = ['a','b','c','d','e','f']\n",
    "dict_lst = {}\n",
    "for i ,j in enumerate(lst):\n",
    "    dict_lst[i] = j\n",
    "\n",
    "dict_lst"
   ]
  },
  {
   "cell_type": "code",
   "execution_count": null,
   "metadata": {},
   "outputs": [],
   "source": []
  }
 ],
 "metadata": {
  "interpreter": {
   "hash": "33d8e939250dd6f77c1a9c857fb967a5c1e04262bfac085cfa78b6d258c493f8"
  },
  "kernelspec": {
   "display_name": "Python 3.7.6 ('base')",
   "language": "python",
   "name": "python3"
  },
  "language_info": {
   "codemirror_mode": {
    "name": "ipython",
    "version": 3
   },
   "file_extension": ".py",
   "mimetype": "text/x-python",
   "name": "python",
   "nbconvert_exporter": "python",
   "pygments_lexer": "ipython3",
   "version": "3.7.6"
  },
  "orig_nbformat": 4
 },
 "nbformat": 4,
 "nbformat_minor": 2
}
