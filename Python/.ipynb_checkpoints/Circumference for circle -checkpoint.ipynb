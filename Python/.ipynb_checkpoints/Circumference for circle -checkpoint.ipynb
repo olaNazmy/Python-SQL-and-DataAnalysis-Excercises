{
 "cells": [
  {
   "cell_type": "code",
   "execution_count": 1,
   "metadata": {},
   "outputs": [
    {
     "name": "stdout",
     "output_type": "stream",
     "text": [
      "Enter Radius of Circle: 2\n",
      " Circumference for the circle is: 12.56\n"
     ]
    }
   ],
   "source": [
    "r =  float(input(\"Enter Radius of Circle: \"))\n",
    "pi = 3.14\n",
    "c = 2 * pi * r \n",
    "print(\" Circumference for the circle is:\",c)"
   ]
  }
 ],
 "metadata": {
  "kernelspec": {
   "display_name": "Python 3",
   "language": "python",
   "name": "python3"
  },
  "language_info": {
   "codemirror_mode": {
    "name": "ipython",
    "version": 3
   },
   "file_extension": ".py",
   "mimetype": "text/x-python",
   "name": "python",
   "nbconvert_exporter": "python",
   "pygments_lexer": "ipython3",
   "version": "3.7.6"
  }
 },
 "nbformat": 4,
 "nbformat_minor": 4
}
