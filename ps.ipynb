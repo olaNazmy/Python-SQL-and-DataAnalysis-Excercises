{
 "cells": [
  {
   "cell_type": "code",
   "execution_count": 8,
   "metadata": {},
   "outputs": [
    {
     "data": {
      "text/plain": [
       "['abcd', 'dgmo', 'eops', 'efps']"
      ]
     },
     "execution_count": 8,
     "metadata": {},
     "output_type": "execute_result"
    }
   ],
   "source": [
    "lst = ['dcba','odmg','esop','espf']\n",
    "lst2 = []\n",
    "for i in lst:\n",
    "    x = ''.join(sorted(i))\n",
    "    lst2.append(x)\n",
    "lst2    \n",
    "lst3 = []\n",
    "for r in lst2:\n",
    "    c= 0\n",
    "    while(c<4):\n",
    "        x = ''.join(sorted(c))\n",
    "        c = c + 1\n",
    "    \n",
    "    \n",
    "    "
   ]
  }
 ],
 "metadata": {
  "kernelspec": {
   "display_name": "Python 3.10.4 64-bit",
   "language": "python",
   "name": "python3"
  },
  "language_info": {
   "codemirror_mode": {
    "name": "ipython",
    "version": 3
   },
   "file_extension": ".py",
   "mimetype": "text/x-python",
   "name": "python",
   "nbconvert_exporter": "python",
   "pygments_lexer": "ipython3",
   "version": "3.10.4"
  },
  "orig_nbformat": 4,
  "vscode": {
   "interpreter": {
    "hash": "6cd11627e3a7dff4ca7753b54e639a67e890de98b68b2591d40831de52ef930e"
   }
  }
 },
 "nbformat": 4,
 "nbformat_minor": 2
}
