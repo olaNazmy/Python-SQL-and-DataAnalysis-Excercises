{
 "cells": [
  {
   "cell_type": "markdown",
   "metadata": {},
   "source": [
    "## Dictionaries"
   ]
  },
  {
   "cell_type": "markdown",
   "metadata": {},
   "source": [
    "Q1. Using keys and indexing, grab the 'hello' from the following dictionaries:"
   ]
  },
  {
   "cell_type": "code",
   "execution_count": 4,
   "metadata": {},
   "outputs": [
    {
     "name": "stdout",
     "output_type": "stream",
     "text": [
      "hello\n"
     ]
    }
   ],
   "source": [
    "d = {'simple_key':'hello'}\n",
    "# Grab 'hello'\n",
    "print(d['simple_key'])"
   ]
  },
  {
   "cell_type": "code",
   "execution_count": 6,
   "metadata": {},
   "outputs": [
    {
     "name": "stdout",
     "output_type": "stream",
     "text": [
      "hello\n"
     ]
    }
   ],
   "source": [
    "d = {'k1':{'k2':'hello'}}\n",
    "# Grab 'hello'\n",
    "print(d['k1']['k2'])"
   ]
  },
  {
   "cell_type": "code",
   "execution_count": 20,
   "metadata": {},
   "outputs": [
    {
     "name": "stdout",
     "output_type": "stream",
     "text": [
      "['hello']\n"
     ]
    }
   ],
   "source": [
    "# Getting a little tricker\n",
    "d = {'k1':[{'nest_key':['this is deep',['hello']]}]}\n",
    "\n",
    "#Grab hello\n",
    "print(d['k1'][0]['nest_key'][1])"
   ]
  },
  {
   "cell_type": "code",
   "execution_count": 27,
   "metadata": {},
   "outputs": [
    {
     "name": "stdout",
     "output_type": "stream",
     "text": [
      "['hello']\n"
     ]
    }
   ],
   "source": [
    "# This will be hard and annoying!\n",
    "d = {'k1':[1,2,{'k2':['this is tricky',{'tough':[1,2,['hello']]}]}]}\n",
    "print(d['k1'][2]['k2'][1]['tough'][2])"
   ]
  },
  {
   "cell_type": "markdown",
   "metadata": {},
   "source": [
    "Q2. Can you sort a dictionary? Why or why not?<br><br>"
   ]
  },
  {
   "cell_type": "code",
   "execution_count": 39,
   "metadata": {},
   "outputs": [
    {
     "name": "stdout",
     "output_type": "stream",
     "text": [
      "{'first': 1, 'second': 2, 'third': 3, 'fourth': 4}\n",
      "['first', 'fourth', 'second', 'third']\n"
     ]
    }
   ],
   "source": [
    "### Your answer here\n",
    "no, When we say that dictionaries are ordered, it means that the items have a defined order, and that order will not change.\n",
    "\n",
    "\n"
   ]
  },
  {
   "cell_type": "markdown",
   "metadata": {},
   "source": [
    "**Run the following cell to initialize the dictionary**"
   ]
  },
  {
   "cell_type": "code",
   "execution_count": null,
   "metadata": {},
   "outputs": [],
   "source": [
    "marks = {\n",
    "    \"Ahmed\" : [50, 60, 70, 80],\n",
    "    \"Ali\"   : [60, 75, 90, 85],\n",
    "    \"Sara\"  : [100, 90, 85, 75]\n",
    "}"
   ]
  },
  {
   "cell_type": "markdown",
   "metadata": {},
   "source": [
    "**Q3. Print each name and next to it print the average mark and the highest mark for them** <br>\n",
    "***Example: \"Ahmed: Average = 65.0 - Highest mark = 80\"***"
   ]
  },
  {
   "cell_type": "code",
   "execution_count": 43,
   "metadata": {},
   "outputs": [
    {
     "name": "stdout",
     "output_type": "stream",
     "text": [
      "260\n",
      "80\n",
      "65.0\n"
     ]
    }
   ],
   "source": [
    "### WRITE YOUR CODE HERE\n",
    "marks = {\n",
    "    \"Ahmed\" : [50, 60, 70, 80],\n",
    "    \"Ali\"   : [60, 75, 90, 85],\n",
    "    \"Sara\"  : [100, 90, 85, 75]\n",
    "}\n",
    "\n",
    "sumofmarks = sum(marks[\"Ahmed\"])\n",
    "print(sumofmarks)\n",
    "#\n",
    "maxofmarks = max(marks[\"Ahmed\"])\n",
    "print(maxofmarks)\n",
    "# \n",
    "avg = sumofmarks / len(marks[\"Ahmed\"])\n",
    "print(avg)\n"
   ]
  },
  {
   "cell_type": "markdown",
   "metadata": {},
   "source": [
    "*Bonus: Get the average mark of all students*"
   ]
  },
  {
   "cell_type": "code",
   "execution_count": 44,
   "metadata": {},
   "outputs": [
    {
     "name": "stdout",
     "output_type": "stream",
     "text": [
      "310\n",
      "90\n",
      "77.5\n"
     ]
    }
   ],
   "source": [
    "### WRITE YOUR CODE HERE\n",
    "marks = {\n",
    "    \"Ahmed\" : [50, 60, 70, 80],\n",
    "    \"Ali\"   : [60, 75, 90, 85],\n",
    "    \"Sara\"  : [100, 90, 85, 75]\n",
    "}\n",
    "\n",
    "sumofmarks = sum(marks[\"Ali\"])\n",
    "print(sumofmarks)\n",
    "#\n",
    "maxofmarks = max(marks[\"Ali\"])\n",
    "print(maxofmarks)\n",
    "# \n",
    "avg = sumofmarks / len(marks[\"Ali\"])\n",
    "print(avg)\n"
   ]
  },
  {
   "cell_type": "code",
   "execution_count": 45,
   "metadata": {},
   "outputs": [
    {
     "name": "stdout",
     "output_type": "stream",
     "text": [
      "350\n",
      "100\n",
      "87.5\n"
     ]
    }
   ],
   "source": [
    "### WRITE YOUR CODE HERE\n",
    "marks = {\n",
    "    \"Ahmed\" : [50, 60, 70, 80],\n",
    "    \"Ali\"   : [60, 75, 90, 85],\n",
    "    \"Sara\"  : [100, 90, 85, 75]\n",
    "}\n",
    "\n",
    "sumofmarks = sum(marks[\"Sara\"])\n",
    "print(sumofmarks)\n",
    "#\n",
    "maxofmarks = max(marks[\"Sara\"])\n",
    "print(maxofmarks)\n",
    "# \n",
    "avg = sumofmarks / len(marks[\"Sara\"])\n",
    "print(avg)\n"
   ]
  },
  {
   "cell_type": "code",
   "execution_count": 2,
   "metadata": {},
   "outputs": [
    {
     "name": "stdout",
     "output_type": "stream",
     "text": [
      "('Ahmed', [50, 60, 70, 80])\n",
      "('Ali', [60, 75, 90, 85])\n",
      "('Sara', [100, 90, 85, 75])\n"
     ]
    }
   ],
   "source": [
    "### WRITE YOUR CODE HERE\n",
    "marks = {\n",
    "    \"Ahmed\" : [50, 60, 70, 80],\n",
    "    \"Ali\"   : [60, 75, 90, 85],\n",
    "    \"Sara\"  : [100, 90, 85, 75]\n",
    "}\n",
    "#\n",
    "for x in marks.items():\n",
    "    \n"
   ]
  }
 ],
 "metadata": {
  "interpreter": {
   "hash": "33d8e939250dd6f77c1a9c857fb967a5c1e04262bfac085cfa78b6d258c493f8"
  },
  "kernelspec": {
   "display_name": "Python 3.7.6 ('base')",
   "language": "python",
   "name": "python3"
  },
  "language_info": {
   "codemirror_mode": {
    "name": "ipython",
    "version": 3
   },
   "file_extension": ".py",
   "mimetype": "text/x-python",
   "name": "python",
   "nbconvert_exporter": "python",
   "pygments_lexer": "ipython3",
   "version": "3.7.6"
  },
  "orig_nbformat": 4
 },
 "nbformat": 4,
 "nbformat_minor": 2
}
