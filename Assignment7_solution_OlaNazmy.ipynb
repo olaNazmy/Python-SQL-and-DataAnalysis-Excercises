{
 "cells": [
  {
   "cell_type": "markdown",
   "metadata": {},
   "source": [
    "## accept 10 numbers from the user and calculate their average"
   ]
  },
  {
   "cell_type": "code",
   "execution_count": 1,
   "metadata": {},
   "outputs": [
    {
     "name": "stdout",
     "output_type": "stream",
     "text": [
      "10 5\n",
      "average of list is 7.5\n"
     ]
    }
   ],
   "source": [
    "lst = str(input('enter ten numbers'))\n",
    "print(lst)\n",
    "lst = lst.split(' ')\n",
    "#\n",
    "sumofnums = 0\n",
    "for i in lst:\n",
    "    sumofnums += int(i)\n",
    "\n",
    "avg = sumofnums / len(lst)\n",
    "print(\"average of list is\",avg)"
   ]
  },
  {
   "cell_type": "markdown",
   "metadata": {},
   "source": [
    "## Write a program to display sum of odd numbers and even numbers that fall between 12 and 37(including both numbers)"
   ]
  },
  {
   "cell_type": "code",
   "execution_count": 3,
   "metadata": {},
   "outputs": [
    {
     "name": "stdout",
     "output_type": "stream",
     "text": [
      "the even numbers is [12, 14, 16, 18, 20, 22, 24, 26, 28, 30, 32, 34, 36]\n",
      "sum of even numbers is 312\n",
      "the odd numbers is [13, 15, 17, 19, 21, 23, 25, 27, 29, 31, 33, 35, 37]\n",
      "sum of odd numbers is 325\n"
     ]
    }
   ],
   "source": [
    "sumofeven = 0\n",
    "sumofodd = 0\n",
    "#\n",
    "lstofodds = []\n",
    "lstofeven = []\n",
    "#\n",
    "for i in range(12,38):\n",
    "    if i % 2 == 0 :\n",
    "        lstofeven.append(i)\n",
    "        sumofeven += i\n",
    "    else:\n",
    "        lstofodds.append(i)\n",
    "        sumofodd += i\n",
    "\n",
    "print(\"the even numbers is\",lstofeven)\n",
    "print(\"sum of even numbers is\",sumofeven)\n",
    "#\n",
    "print(\"the odd numbers is\",lstofodds)\n",
    "print(\"sum of odd numbers is\",sumofodd)\n",
    "    "
   ]
  },
  {
   "cell_type": "markdown",
   "metadata": {},
   "source": [
    "## Write a program to display all the numbers which are divisible by 11 but not by 2 between 100 and 500"
   ]
  },
  {
   "cell_type": "code",
   "execution_count": 4,
   "metadata": {},
   "outputs": [
    {
     "name": "stdout",
     "output_type": "stream",
     "text": [
      "numbers divisible by 11 and not by 2 is: \n",
      "[121, 143, 165, 187, 209, 231, 253, 275, 297, 319, 341, 363, 385, 407, 429, 451, 473, 495]\n"
     ]
    }
   ],
   "source": [
    "allnumbers = []\n",
    "for i in range(100,500):\n",
    "    if i % 11 == 0 and not i % 2 == 0:\n",
    "        allnumbers.append(i)\n",
    "    \n",
    "print(\"numbers divisible by 11 and not by 2 is: \")\n",
    "print(allnumbers)\n"
   ]
  },
  {
   "cell_type": "markdown",
   "metadata": {},
   "source": [
    "## Write a program to find the sum of following (Accept values of a, r, n from user)\n",
    "\n",
    "a + ar + ar2 + ar3 + ………..arn"
   ]
  },
  {
   "cell_type": "code",
   "execution_count": 2,
   "metadata": {},
   "outputs": [
    {
     "name": "stdout",
     "output_type": "stream",
     "text": [
      "sum of equation is  15\n"
     ]
    }
   ],
   "source": [
    "a = int(input(\"Enter number of a\"))\n",
    "r = int(input(\"Enter number of r\"))\n",
    "n = int(input(\"Enter number of n\"))\n",
    "sum_of_equation = 0\n",
    "for i in range(n+1):\n",
    "    sum_of_equation += (a) * r**i\n",
    "print(\"sum of equation is \",sum_of_equation)\n",
    "    "
   ]
  },
  {
   "cell_type": "markdown",
   "metadata": {},
   "source": [
    "## Write a program to find the sum of digits of a number."
   ]
  },
  {
   "cell_type": "code",
   "execution_count": 15,
   "metadata": {},
   "outputs": [
    {
     "name": "stdout",
     "output_type": "stream",
     "text": [
      " your number is: 33\n",
      " sum of it's digits is: 6\n"
     ]
    }
   ],
   "source": [
    "given_num = input(\"Enter Your Number\")\n",
    "sum_of_digits = 0\n",
    "for i in str(given_num):\n",
    "    sum_of_digits += int(i)\n",
    "print(\" your number is:\",given_num)\n",
    "print(\" sum of it's digits is:\",sum_of_digits)\n",
    "    "
   ]
  },
  {
   "cell_type": "markdown",
   "metadata": {},
   "source": [
    "## Accept two numbers from the user and display sum of even numbers between them(including both)"
   ]
  },
  {
   "cell_type": "code",
   "execution_count": 37,
   "metadata": {},
   "outputs": [
    {
     "name": "stdout",
     "output_type": "stream",
     "text": [
      "even numbers is [10, 12, 14, 16, 18, 20]\n",
      "sum of even is 95\n",
      "odd numbers is [11, 13, 15, 17, 19]\n",
      "sum of odd is 75\n"
     ]
    }
   ],
   "source": [
    "first_num = int(input(\"Enter The First Number\"))\n",
    "second_num = int(input(\"Enter The Second Number\"))\n",
    "sumofeven = 0\n",
    "sumofodd = 0\n",
    "#\n",
    "even_nums = []\n",
    "odd_nums = []\n",
    "#\n",
    "for i in range(first_num,second_num+1):\n",
    "    if i % 2 == 0:\n",
    "        sumofeven = sumofodd + i \n",
    "        even_nums.append(i)\n",
    "    else:\n",
    "        sumofodd = sumofodd + i \n",
    "        odd_nums.append(i)\n",
    "#\n",
    "print(\"even numbers is\",even_nums)\n",
    "print(\"sum of even is\",sumofeven)\n",
    "print(\"odd numbers is\",odd_nums)\n",
    "print(\"sum of odd is\",sumofodd)"
   ]
  },
  {
   "cell_type": "code",
   "execution_count": null,
   "metadata": {},
   "outputs": [],
   "source": []
  }
 ],
 "metadata": {
  "interpreter": {
   "hash": "33d8e939250dd6f77c1a9c857fb967a5c1e04262bfac085cfa78b6d258c493f8"
  },
  "kernelspec": {
   "display_name": "Python 3.7.6 ('base')",
   "language": "python",
   "name": "python3"
  },
  "language_info": {
   "codemirror_mode": {
    "name": "ipython",
    "version": 3
   },
   "file_extension": ".py",
   "mimetype": "text/x-python",
   "name": "python",
   "nbconvert_exporter": "python",
   "pygments_lexer": "ipython3",
   "version": "3.7.6"
  },
  "orig_nbformat": 4
 },
 "nbformat": 4,
 "nbformat_minor": 2
}
